{
 "cells": [
  {
   "cell_type": "markdown",
   "source": [
    "# Load dataset:"
   ],
   "metadata": {
    "collapsed": false,
    "pycharm": {
     "name": "#%% md\n"
    }
   }
  },
  {
   "cell_type": "code",
   "execution_count": 6,
   "metadata": {
    "collapsed": true,
    "pycharm": {
     "name": "#%%\n"
    }
   },
   "outputs": [],
   "source": [
    "from components.models.utils import train_test_split\n",
    "from components.datasets.dataset_factory import dataset_factory\n",
    "from components.datasets.dataset_enum import Dataset\n",
    "from components.text_handler.embedding.embedding_enum import EmbeddingType\n",
    "from components.text_handler.embedding.embedding_factory import embedding_factory\n",
    "\n",
    "embedding = embedding_factory(EmbeddingType.GLOVE)\n",
    "dataset = dataset_factory(Dataset.GO_EMOTIONS, embedding)\n",
    "train_dataset_data, train_dataset_labels, test_dataset_data, test_dataset_labels = train_test_split(dataset, 0.85)\n",
    "train_size = len(train_dataset_data)\n",
    "test_size = len(test_dataset_data)\n"
   ]
  },
  {
   "cell_type": "markdown",
   "source": [
    "# Create model:\n",
    "* Only GRU for now"
   ],
   "metadata": {
    "collapsed": false,
    "pycharm": {
     "name": "#%% md\n"
    }
   }
  },
  {
   "cell_type": "code",
   "execution_count": 7,
   "outputs": [],
   "source": [
    "import torch\n",
    "from torch import nn\n",
    "from components.models.algorithms.gru import GRU\n",
    "\n",
    "input_size = 100\n",
    "output_size = 28 # we have 28 labels\n",
    "hidden_size = 64\n",
    "learning_rate = 0.0004\n",
    "batch_size = 32\n",
    "num_epochs = 10\n",
    "\n",
    "model = GRU(input_size, output_size, hidden_size)\n",
    "criterion = nn.CrossEntropyLoss()\n",
    "optimizer = torch.optim.Adam(model.parameters(), lr=learning_rate)"
   ],
   "metadata": {
    "collapsed": false,
    "pycharm": {
     "name": "#%%\n"
    }
   }
  },
  {
   "cell_type": "markdown",
   "source": [
    "# Define metrics objects:"
   ],
   "metadata": {
    "collapsed": false,
    "pycharm": {
     "name": "#%% md\n"
    }
   }
  },
  {
   "cell_type": "code",
   "execution_count": 8,
   "outputs": [
    {
     "name": "stderr",
     "output_type": "stream",
     "text": [
      "/Users/nadavalali/opt/anaconda3/lib/python3.9/site-packages/torchmetrics/utilities/prints.py:36: UserWarning: Metric `AUROC` will save all targets and predictions in buffer. For large datasets this may lead to large memory footprint.\n",
      "  warnings.warn(*args, **kwargs)\n"
     ]
    }
   ],
   "source": [
    "import torchmetrics\n",
    "\n",
    "accuracy = torchmetrics.Accuracy(num_classes=output_size)\n",
    "roc_accuracy = torchmetrics.AUROC(num_classes=output_size)\n",
    "F1_accuracy = torchmetrics.F1Score(num_classes=output_size)"
   ],
   "metadata": {
    "collapsed": false,
    "pycharm": {
     "name": "#%%\n"
    }
   }
  },
  {
   "cell_type": "markdown",
   "source": [
    "# Train model:"
   ],
   "metadata": {
    "collapsed": false,
    "pycharm": {
     "name": "#%% md\n"
    }
   }
  },
  {
   "cell_type": "code",
   "execution_count": null,
   "outputs": [
    {
     "name": "stderr",
     "output_type": "stream",
     "text": [
      "  0%|          | 0/10 [00:00<?, ?it/s]/Users/nadavalali/opt/anaconda3/lib/python3.9/site-packages/torch/nn/functional.py:1960: UserWarning: nn.functional.sigmoid is deprecated. Use torch.sigmoid instead.\n",
      "  warnings.warn(\"nn.functional.sigmoid is deprecated. Use torch.sigmoid instead.\")\n",
      "/Users/nadavalali/opt/anaconda3/lib/python3.9/site-packages/torchmetrics/utilities/prints.py:36: UserWarning: No positive samples in targets, true positive value should be meaningless. Returning zero tensor in true positive score\n",
      "  warnings.warn(*args, **kwargs)\n"
     ]
    }
   ],
   "source": [
    "from components.models.algorithms.feed_nn_model import feed_model\n",
    "from components.models.utils import shuffle\n",
    "from tqdm import tqdm\n",
    "\n",
    "LOSS = \"loss\"\n",
    "TRAIN = \"train\"\n",
    "TEST = \"test\"\n",
    "ACC = \"accuracy\"\n",
    "ROC = \"roc accuracy\"\n",
    "F1 = \"F1 accuracy\"\n",
    "\n",
    "measurements = {\n",
    "    LOSS: {TRAIN: [], TEST: []},\n",
    "    ACC: {TRAIN: [], TEST: []},\n",
    "    ROC: {TRAIN: [], TEST: []},\n",
    "    F1: {TRAIN: [], TEST: []}\n",
    "}\n",
    "\n",
    "for epoch in tqdm(range(num_epochs)):\n",
    "\n",
    "    # train the model\n",
    "    feed_model(model, hidden_size, train_dataset_data, train_dataset_labels, train_size,\n",
    "               batch_size, criterion, optimizer, accuracy, roc_accuracy, F1_accuracy, measurements, TRAIN)\n",
    "\n",
    "    # test the model\n",
    "    feed_model(model, hidden_size, test_dataset_data, test_dataset_labels, test_size,\n",
    "               batch_size, criterion, optimizer, accuracy, roc_accuracy, F1_accuracy, measurements, TEST)\n",
    "\n",
    "    # shuffle train set\n",
    "    train_dataset_data, train_dataset_labels = shuffle(train_dataset_data, train_dataset_labels)\n"
   ],
   "metadata": {
    "collapsed": false,
    "pycharm": {
     "name": "#%%\n",
     "is_executing": true
    }
   }
  },
  {
   "cell_type": "markdown",
   "source": [
    "# Plot results:"
   ],
   "metadata": {
    "collapsed": false,
    "pycharm": {
     "name": "#%% md\n"
    }
   }
  },
  {
   "cell_type": "code",
   "execution_count": null,
   "outputs": [],
   "source": [
    "from matplotlib import pyplot as plt\n",
    "\n",
    "if len(measurements[LOSS][TRAIN]):\n",
    "    print(\"Plotting results:\\n\")\n",
    "    for measurement_key, measurement in measurements.items():\n",
    "        print(f\"{measurement_key}: train={measurement[TRAIN][-1]}, test={measurement[TEST][-1]}\")\n",
    "\n",
    "        plt.title(f'{\"gru\"}, hidden_size={hidden_size}')\n",
    "        plt.xlabel('Epoch')\n",
    "        plt.ylabel(measurement_key)\n",
    "        plt.plot(measurement[TRAIN], label=f'train {measurement_key}')\n",
    "        plt.plot(measurement[TEST], label=f'test {measurement_key}')\n",
    "        plt.legend()\n",
    "        plt.show()\n",
    "else:\n",
    "    print(\"You didn't run the training step!\")"
   ],
   "metadata": {
    "collapsed": false,
    "pycharm": {
     "name": "#%%\n"
    }
   }
  }
 ],
 "metadata": {
  "kernelspec": {
   "display_name": "Python 3",
   "language": "python",
   "name": "python3"
  },
  "language_info": {
   "codemirror_mode": {
    "name": "ipython",
    "version": 2
   },
   "file_extension": ".py",
   "mimetype": "text/x-python",
   "name": "python",
   "nbconvert_exporter": "python",
   "pygments_lexer": "ipython2",
   "version": "2.7.6"
  }
 },
 "nbformat": 4,
 "nbformat_minor": 0
}
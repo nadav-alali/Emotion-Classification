{
 "cells": [
  {
   "cell_type": "markdown",
   "source": [
    "# Imports"
   ],
   "metadata": {
    "collapsed": false,
    "pycharm": {
     "name": "#%% md\n"
    }
   }
  },
  {
   "cell_type": "code",
   "execution_count": 1,
   "outputs": [],
   "source": [
    "from components.models.utils import train_test_split\n",
    "from components.datasets.dataset_factory import dataset_factory\n",
    "from components.datasets.dataset_enum import Dataset\n",
    "from components.text_handler.embedding.embedding_enum import EmbeddingType\n",
    "from components.text_handler.embedding.embedding_factory import embedding_factory\n",
    "import torch\n",
    "import numpy as np\n",
    "from torch.utils.data import WeightedRandomSampler\n",
    "from torch.utils.data import DataLoader\n",
    "from components.models.algorithms.feed_nn_model import feed_model, LOSS, TRAIN, TEST, F1_SCORE, RECALL, PRECISION\n",
    "from tqdm import tqdm\n",
    "import os\n",
    "from torch import nn\n",
    "from components.models.algorithms.gru import GRU\n",
    "from torchmetrics import Precision, Recall, F1Score\n",
    "from matplotlib import pyplot as plt\n"
   ],
   "metadata": {
    "collapsed": false,
    "pycharm": {
     "name": "#%%\n"
    }
   }
  },
  {
   "cell_type": "markdown",
   "source": [
    "# Define globals:"
   ],
   "metadata": {
    "collapsed": false,
    "pycharm": {
     "name": "#%% md\n"
    }
   }
  },
  {
   "cell_type": "code",
   "execution_count": 2,
   "outputs": [],
   "source": [
    "input_size = 100\n",
    "output_size = 28 # we have 28 labels\n",
    "hidden_size = 64\n",
    "learning_rate = 4e-4\n",
    "batch_size = 24\n",
    "num_epochs = 10"
   ],
   "metadata": {
    "collapsed": false,
    "pycharm": {
     "name": "#%%\n"
    }
   }
  },
  {
   "cell_type": "markdown",
   "source": [
    "# Load dataset:"
   ],
   "metadata": {
    "collapsed": false,
    "pycharm": {
     "name": "#%% md\n"
    }
   }
  },
  {
   "cell_type": "code",
   "execution_count": 3,
   "outputs": [],
   "source": [
    "embedding = embedding_factory(EmbeddingType.GLOVE)\n",
    "dataset = dataset_factory(Dataset.GO_EMOTIONS, embedding)\n",
    "train_dataset_data, test_dataset_data, train_dataset_labels, test_dataset_labels = train_test_split(dataset, 0.8)\n",
    "train_size = len(train_dataset_data)\n",
    "test_size = len(test_dataset_data)"
   ],
   "metadata": {
    "collapsed": false,
    "pycharm": {
     "name": "#%%\n"
    }
   }
  },
  {
   "cell_type": "markdown",
   "source": [
    "# Define data loaders"
   ],
   "metadata": {
    "collapsed": false,
    "pycharm": {
     "name": "#%% md\n"
    }
   }
  },
  {
   "cell_type": "code",
   "execution_count": 4,
   "outputs": [],
   "source": [
    "\n",
    "train_dataset_labels = torch.from_numpy(np.array(train_dataset_labels)).long()\n",
    "test_dataset_labels = torch.from_numpy(np.array(test_dataset_labels)).long()\n",
    "train_dataset = torch.utils.data.TensorDataset(torch.from_numpy(train_dataset_data), train_dataset_labels.float())\n",
    "test_dataset = torch.utils.data.TensorDataset(torch.from_numpy(test_dataset_data), test_dataset_labels.float())\n",
    "\n",
    "train_loader = DataLoader(train_dataset, batch_size=batch_size, num_workers=1, shuffle=True)\n",
    "test_loader = DataLoader(test_dataset, batch_size=batch_size, num_workers=1, shuffle=False)"
   ],
   "metadata": {
    "collapsed": false,
    "pycharm": {
     "name": "#%%\n"
    }
   }
  },
  {
   "cell_type": "markdown",
   "source": [
    "# Create model:"
   ],
   "metadata": {
    "collapsed": false,
    "pycharm": {
     "name": "#%% md\n"
    }
   }
  },
  {
   "cell_type": "code",
   "execution_count": 5,
   "outputs": [],
   "source": [
    "from components.models.algorithms.lstm import LSTM\n",
    "\n",
    "dirname = os.path.dirname(\"__file__\")\n",
    "saved_data_path = os.path.join(dirname, \"components\")\n",
    "saved_data_path = os.path.join(saved_data_path, \"models\")\n",
    "saved_data_path = os.path.join(saved_data_path, \"saved_models\")\n",
    "device = torch.device('cpu')\n",
    "\n",
    "# model = GRU(input_size, output_size, hidden_size).to(device)\n",
    "model = LSTM(input_size, output_size, hidden_size)\n",
    "PATH = os.path.join(saved_data_path, f\"{model.get_model_name()}.pth\")\n",
    "if os.path.exists(PATH):\n",
    "    model.load_state_dict(torch.load(PATH))\n",
    "\n",
    "criterion = nn.BCELoss()\n",
    "optimizer = torch.optim.Adam(model.parameters(), lr=learning_rate)"
   ],
   "metadata": {
    "collapsed": false,
    "pycharm": {
     "name": "#%%\n"
    }
   }
  },
  {
   "cell_type": "markdown",
   "source": [
    "# Define metrics objects:"
   ],
   "metadata": {
    "collapsed": false,
    "pycharm": {
     "name": "#%% md\n"
    }
   }
  },
  {
   "cell_type": "code",
   "execution_count": 6,
   "outputs": [],
   "source": [
    "recall = Recall().to(device)\n",
    "f1 = F1Score().to(device)\n",
    "precision = Precision().to(device)"
   ],
   "metadata": {
    "collapsed": false,
    "pycharm": {
     "name": "#%%\n"
    }
   }
  },
  {
   "cell_type": "markdown",
   "source": [
    "# Train model:"
   ],
   "metadata": {
    "collapsed": false,
    "pycharm": {
     "name": "#%% md\n"
    }
   }
  },
  {
   "cell_type": "code",
   "execution_count": 7,
   "outputs": [
    {
     "name": "stderr",
     "output_type": "stream",
     "text": [
      "100%|██████████| 10/10 [1:50:42<00:00, 664.21s/it]\n"
     ]
    }
   ],
   "source": [
    "measurements = {\n",
    "    LOSS: {TRAIN: [], TEST: []},\n",
    "    RECALL: {TRAIN: [], TEST: []},\n",
    "    F1_SCORE: {TRAIN: [], TEST: []},\n",
    "    PRECISION: {TRAIN: [], TEST: []}\n",
    "}\n",
    "\n",
    "for epoch in tqdm(range(num_epochs)):\n",
    "\n",
    "    # train the model\n",
    "    model.train()\n",
    "    feed_model(model, train_loader, criterion, optimizer, recall, f1, precision, measurements, TRAIN)\n",
    "\n",
    "    # test the model\n",
    "    model.eval()\n",
    "    feed_model(model, test_loader, criterion, optimizer, recall, f1, precision, measurements, TEST)\n",
    "\n",
    "    torch.save(model.state_dict(), PATH)"
   ],
   "metadata": {
    "collapsed": false,
    "pycharm": {
     "name": "#%%\n"
    }
   }
  },
  {
   "cell_type": "markdown",
   "source": [
    "# Plot results:"
   ],
   "metadata": {
    "collapsed": false,
    "pycharm": {
     "name": "#%% md\n"
    }
   }
  },
  {
   "cell_type": "code",
   "execution_count": 1,
   "outputs": [
    {
     "ename": "NameError",
     "evalue": "name 'TRAIN' is not defined",
     "output_type": "error",
     "traceback": [
      "\u001B[0;31m---------------------------------------------------------------------------\u001B[0m",
      "\u001B[0;31mNameError\u001B[0m                                 Traceback (most recent call last)",
      "\u001B[0;32m/var/folders/mg/c1b82dqd5r71hy_2bq_yx1f80000gn/T/ipykernel_8755/4039808146.py\u001B[0m in \u001B[0;36m<module>\u001B[0;34m\u001B[0m\n\u001B[1;32m      2\u001B[0m \u001B[0;34m\u001B[0m\u001B[0m\n\u001B[1;32m      3\u001B[0m result_df = pd.DataFrame({\n\u001B[0;32m----> 4\u001B[0;31m     TRAIN: {\n\u001B[0m\u001B[1;32m      5\u001B[0m         \u001B[0mLOSS\u001B[0m\u001B[0;34m:\u001B[0m \u001B[0;36m0.0\u001B[0m\u001B[0;34m,\u001B[0m\u001B[0;34m\u001B[0m\u001B[0;34m\u001B[0m\u001B[0m\n\u001B[1;32m      6\u001B[0m         \u001B[0mRECALL\u001B[0m\u001B[0;34m:\u001B[0m \u001B[0;36m0.0\u001B[0m\u001B[0;34m,\u001B[0m\u001B[0;34m\u001B[0m\u001B[0;34m\u001B[0m\u001B[0m\n",
      "\u001B[0;31mNameError\u001B[0m: name 'TRAIN' is not defined"
     ]
    }
   ],
   "source": [
    "import pandas as pd\n",
    "\n",
    "result_df = pd.DataFrame({\n",
    "    TRAIN: {\n",
    "        LOSS: 0.0,\n",
    "        RECALL: 0.0,\n",
    "        F1_SCORE: 0.0,\n",
    "        PRECISION: 0.0\n",
    "    },\n",
    "    TEST: {\n",
    "        LOSS: 0.0,\n",
    "        RECALL: 0.0,\n",
    "        F1_SCORE: 0.0,\n",
    "        PRECISION: 0.0\n",
    "    }\n",
    "})\n",
    "\n",
    "if len(measurements[LOSS][TRAIN]):\n",
    "    print(\"Plotting results:\\n\")\n",
    "    fig, ((ax1, ax2), (ax3, ax4)) = plt.subplots(2, 2)\n",
    "    fig.tight_layout(rect=[0, 0.03, 1, 0.95])\n",
    "    subplots = [ax1, ax2, ax3, ax4]\n",
    "    fig.suptitle(f'{model.get_model_name()} model')\n",
    "    for index, (measurement_key, measurement) in enumerate(measurements.items()):\n",
    "        result_df[TRAIN][measurement_key] = measurement[TRAIN][-1]\n",
    "        result_df[TEST][measurement_key] = measurement[TEST][-1]\n",
    "        subplot = subplots[index]\n",
    "        subplot.plot(measurement[TRAIN], label=f'train {measurement_key}')\n",
    "        subplot.plot(measurement[TEST], label=f'test {measurement_key}')\n",
    "        subplot.set_ylabel(measurement_key)\n",
    "        subplot.legend()\n",
    "    fig.supxlabel('Epoch')\n",
    "    plt.savefig(os.path.join('results', f'{model.get_model_name()}.png'), dpi=300)\n",
    "    plt.plot()\n",
    "    result_df = result_df.round(4)\n",
    "    print(result_df)\n",
    "    result_df.to_csv(os.path.join('results', f'{model.get_model_name()}.csv'))\n",
    "else:\n",
    "    print(\"You didn't run the training step!\")"
   ],
   "metadata": {
    "collapsed": false,
    "pycharm": {
     "name": "#%%\n"
    }
   }
  }
 ],
 "metadata": {
  "kernelspec": {
   "display_name": "Python 3",
   "language": "python",
   "name": "python3"
  },
  "language_info": {
   "codemirror_mode": {
    "name": "ipython",
    "version": 2
   },
   "file_extension": ".py",
   "mimetype": "text/x-python",
   "name": "python",
   "nbconvert_exporter": "python",
   "pygments_lexer": "ipython2",
   "version": "2.7.6"
  }
 },
 "nbformat": 4,
 "nbformat_minor": 0
}
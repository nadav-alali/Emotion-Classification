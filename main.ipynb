{
 "cells": [
  {
   "cell_type": "code",
   "execution_count": 16,
   "metadata": {
    "collapsed": true,
    "pycharm": {
     "name": "#%%\n"
    }
   },
   "outputs": [
    {
     "name": "stderr",
     "output_type": "stream",
     "text": [
      ".vector_cache/glove.6B.zip: 862MB [13:34, 1.06MB/s]                                \n",
      "100%|█████████▉| 399999/400000 [00:10<00:00, 36975.01it/s]\n"
     ]
    }
   ],
   "source": [
    "from components.datasets.dataset_factory import dataset_factory\n",
    "from components.datasets.dataset_enum import Dataset\n",
    "from components.text_handler.embedding.embedding_enum import EmbeddingType\n",
    "from components.text_handler.embedding.embedding_factory import embedding_factory\n",
    "\n",
    "embedding = embedding_factory(EmbeddingType.GLOVE)\n",
    "dataset = dataset_factory(Dataset.GO_EMOTIONS, embedding)\n"
   ]
  }
 ],
 "metadata": {
  "kernelspec": {
   "display_name": "Python 3",
   "language": "python",
   "name": "python3"
  },
  "language_info": {
   "codemirror_mode": {
    "name": "ipython",
    "version": 2
   },
   "file_extension": ".py",
   "mimetype": "text/x-python",
   "name": "python",
   "nbconvert_exporter": "python",
   "pygments_lexer": "ipython2",
   "version": "2.7.6"
  }
 },
 "nbformat": 4,
 "nbformat_minor": 0
}